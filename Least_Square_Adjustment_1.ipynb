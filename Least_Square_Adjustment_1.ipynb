{
  "nbformat": 4,
  "nbformat_minor": 0,
  "metadata": {
    "colab": {
      "name": "Least Square Adjustment_1",
      "provenance": [],
      "authorship_tag": "ABX9TyMmS9wuSbFPRQjqOvS8OC/b",
      "include_colab_link": true
    },
    "kernelspec": {
      "name": "python3",
      "display_name": "Python 3"
    }
  },
  "cells": [
    {
      "cell_type": "markdown",
      "metadata": {
        "id": "view-in-github",
        "colab_type": "text"
      },
      "source": [
        "<a href=\"https://colab.research.google.com/github/vp79247/VivekProjects/blob/master/Least_Square_Adjustment_1.ipynb\" target=\"_parent\"><img src=\"https://colab.research.google.com/assets/colab-badge.svg\" alt=\"Open In Colab\"/></a>"
      ]
    },
    {
      "cell_type": "markdown",
      "metadata": {
        "id": "e7lrjvC152Y2"
      },
      "source": [
        "**Introduction**"
      ]
    },
    {
      "cell_type": "markdown",
      "metadata": {
        "id": "tyUY94Gn6DmZ"
      },
      "source": [
        "You (an electrical engineer) wish to determine the resistance of an electrical component by using Ohm's law. You remember from your high school circuit classes that$$V = RI$$where $V$ is the voltage in volts, $R$ is resistance in ohms, and $I$ is electrical current in amperes. Using a multimeter, you collect the following data:"
      ]
    },
    {
      "cell_type": "markdown",
      "metadata": {
        "id": "Y44lKFTI6N41"
      },
      "source": [
        "Current (A)\t| Voltage (V)\n",
        "--- | ---\n",
        "0.2\t| 1.23\n",
        "0.3\t| 1.38\n",
        "0.4\t| 2.06\n",
        "0.5\t| 2.47\n",
        "0.6\t| 3.17"
      ]
    },
    {
      "cell_type": "markdown",
      "metadata": {
        "id": "sDFhHuKI8CoW"
      },
      "source": [
        "Your goal is to\n",
        "\n",
        "1. Fit a line through the origin (i.e., determine the parameter $R$ for $y = Rx$) to this data by using the method of least squares. You may assume that all measurements are of equal importance.\n",
        "2. Consider what the best estimate of the resistance is, in ohms, for this component."
      ]
    },
    {
      "cell_type": "code",
      "metadata": {
        "id": "aVpu1Ir45Wbk"
      },
      "source": [
        "import numpy as np\n",
        "from  numpy.linalg import inv\n",
        "import matplotlib.pyplot as plt"
      ],
      "execution_count": 63,
      "outputs": []
    },
    {
      "cell_type": "markdown",
      "metadata": {
        "id": "oE0JMfQl9Hee"
      },
      "source": [
        "Store the voltage and current data as column as vector"
      ]
    },
    {
      "cell_type": "code",
      "metadata": {
        "id": "-uv-el0o9ALl"
      },
      "source": [
        "I=np.mat([0.2,0.3,0.4,0.5,0.6]).T\n",
        "V=np.mat([1.23,1.38,2.06,2.47,3.17]).T"
      ],
      "execution_count": 78,
      "outputs": []
    },
    {
      "cell_type": "code",
      "metadata": {
        "id": "B_0rC5SoDl2R"
      },
      "source": [
        "#I.shape=(5,1)\n",
        "#V.shape=(5,1)"
      ],
      "execution_count": 79,
      "outputs": []
    },
    {
      "cell_type": "code",
      "metadata": {
        "id": "_jY1c_NYFJP8",
        "outputId": "690e8896-7572-494c-e8e8-55e324eeba51",
        "colab": {
          "base_uri": "https://localhost:8080/"
        }
      },
      "source": [
        "I"
      ],
      "execution_count": 80,
      "outputs": [
        {
          "output_type": "execute_result",
          "data": {
            "text/plain": [
              "matrix([[0.2],\n",
              "        [0.3],\n",
              "        [0.4],\n",
              "        [0.5],\n",
              "        [0.6]])"
            ]
          },
          "metadata": {
            "tags": []
          },
          "execution_count": 80
        }
      ]
    },
    {
      "cell_type": "code",
      "metadata": {
        "id": "Wf8F-VTiFLYf",
        "outputId": "86b8c43a-ed64-4db1-9beb-4de500c3ee79",
        "colab": {
          "base_uri": "https://localhost:8080/"
        }
      },
      "source": [
        "V"
      ],
      "execution_count": 81,
      "outputs": [
        {
          "output_type": "execute_result",
          "data": {
            "text/plain": [
              "matrix([[1.23],\n",
              "        [1.38],\n",
              "        [2.06],\n",
              "        [2.47],\n",
              "        [3.17]])"
            ]
          },
          "metadata": {
            "tags": []
          },
          "execution_count": 81
        }
      ]
    },
    {
      "cell_type": "code",
      "metadata": {
        "id": "-K5n6m15-LHJ",
        "outputId": "d541299d-4b90-4024-cef1-d8a7cbaa0493",
        "colab": {
          "base_uri": "https://localhost:8080/",
          "height": 282
        }
      },
      "source": [
        "plt.scatter(np.asarray(I),np.asarray(V))\n",
        "plt.xlabel('Current (I)')\n",
        "plt.ylabel('Voltage (V)')\n",
        "plt.grid(True)\n",
        "plt.show()"
      ],
      "execution_count": 82,
      "outputs": [
        {
          "output_type": "display_data",
          "data": {
            "image/png": "[encoded data removed]",
            "text/plain": [
              "<Figure size 432x288 with 1 Axes>"
            ]
          },
          "metadata": {
            "tags": [],
            "needs_background": "light"
          }
        }
      ]
    },
    {
      "cell_type": "code",
      "metadata": {
        "id": "sb3dlzXA-wYD"
      },
      "source": [
        "A=I\n",
        "A_Transpose=A.transpose()\n",
        "Y=V\n",
        "inverse=inv(np.dot(A_Transpose, A))"
      ],
      "execution_count": 83,
      "outputs": []
    },
    {
      "cell_type": "code",
      "metadata": {
        "id": "nZw8fYKmAGnf"
      },
      "source": [
        "X=inverse*A_Transpose*Y"
      ],
      "execution_count": 84,
      "outputs": []
    },
    {
      "cell_type": "code",
      "metadata": {
        "id": "txgsdT2VArU6",
        "outputId": "c3d95ce1-4fa1-4af8-e018-07f107ceb32f",
        "colab": {
          "base_uri": "https://localhost:8080/"
        }
      },
      "source": [
        "R=X\n",
        "R=R[0,0]\n",
        "R"
      ],
      "execution_count": 90,
      "outputs": [
        {
          "output_type": "execute_result",
          "data": {
            "text/plain": [
              "5.134444444444445"
            ]
          },
          "metadata": {
            "tags": []
          },
          "execution_count": 90
        }
      ]
    },
    {
      "cell_type": "markdown",
      "metadata": {
        "id": "PwMwEFrEGody"
      },
      "source": [
        "**Plotting the results**"
      ]
    },
    {
      "cell_type": "code",
      "metadata": {
        "id": "xbKVop_wEb6u",
        "outputId": "b3fb472e-914f-42be-dcc7-f7ab4a6d047d",
        "colab": {
          "base_uri": "https://localhost:8080/",
          "height": 279
        }
      },
      "source": [
        "I_line=np.arange(0,0.8,0.1)\n",
        "V_line=R*I_line\n",
        "\n",
        "plt.scatter(np.asarray(I),np.asarray(V))\n",
        "plt.plot(I_line, V_line)\n",
        "plt.xlabel('Current (I)')\n",
        "plt.ylabel('Voltage (V)')\n",
        "plt.grid(True)\n",
        "plt.show()"
      ],
      "execution_count": 91,
      "outputs": [
        {
          "output_type": "display_data",
          "data": {
            "image/png": "[encoded data removed]",
            "text/plain": [
              "<Figure size 432x288 with 1 Axes>"
            ]
          },
          "metadata": {
            "tags": [],
            "needs_background": "light"
          }
        }
      ]
    },
    {
      "cell_type": "code",
      "metadata": {
        "id": "y-VYOq3_HE9w"
      },
      "source": [
        ""
      ],
      "execution_count": 86,
      "outputs": []
    },
    {
      "cell_type": "code",
      "metadata": {
        "id": "DoXp4bTCHy42"
      },
      "source": [
        ""
      ],
      "execution_count": 86,
      "outputs": []
    }
  ]
}