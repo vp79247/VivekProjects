{
  "nbformat": 4,
  "nbformat_minor": 0,
  "metadata": {
    "kernelspec": {
      "display_name": "Python 3",
      "language": "python",
      "name": "python3"
    },
    "language_info": {
      "codemirror_mode": {
        "name": "ipython",
        "version": 3
      },
      "file_extension": ".py",
      "mimetype": "text/x-python",
      "name": "python",
      "nbconvert_exporter": "python",
      "pygments_lexer": "ipython3",
      "version": "3.7.7"
    },
    "colab": {
      "name": "forecast_hourly_bike_rental_demand.ipynb",
      "provenance": [],
      "include_colab_link": true
    }
  },
  "cells": [
    {
      "cell_type": "markdown",
      "metadata": {
        "id": "view-in-github",
        "colab_type": "text"
      },
      "source": [
        "<a href=\"https://colab.research.google.com/github/vp79247/VivekProjects/blob/master/forecast_hourly_bike_rental_demand.ipynb\" target=\"_parent\"><img src=\"https://colab.research.google.com/assets/colab-badge.svg\" alt=\"Open In Colab\"/></a>"
      ]
    },
    {
      "cell_type": "code",
      "metadata": {
        "id": "Uxfdxj8-cvTq",
        "colab_type": "code",
        "colab": {},
        "outputId": "b8eeee28-a219-455e-acca-f4523ed903a2"
      },
      "source": [
        "import numpy as np\n",
        "import pandas as pd\n",
        "import matplotlib.pyplot as plt\n",
        "%matplolib inline"
      ],
      "execution_count": null,
      "outputs": [
        {
          "output_type": "stream",
          "text": [
            "UsageError: Line magic function `%matplolib` not found.\n"
          ],
          "name": "stderr"
        }
      ]
    },
    {
      "cell_type": "code",
      "metadata": {
        "id": "rkb0qGSBcvTx",
        "colab_type": "code",
        "colab": {}
      },
      "source": [
        "train=pd.read_csv('train.csv')\n",
        "test=pd.read_csv('test.csv')"
      ],
      "execution_count": null,
      "outputs": []
    },
    {
      "cell_type": "markdown",
      "metadata": {
        "id": "rKTp70LfcvT1",
        "colab_type": "text"
      },
      "source": [
        "# DATA EXPLORATION"
      ]
    },
    {
      "cell_type": "code",
      "metadata": {
        "id": "IDo4vERlcvT2",
        "colab_type": "code",
        "colab": {},
        "outputId": "66521ae7-1de6-4a5f-fbc4-ec767ec66404"
      },
      "source": [
        "train.head()"
      ],
      "execution_count": null,
      "outputs": [
        {
          "output_type": "execute_result",
          "data": {
            "text/html": [
              "<div>\n",
              "<style scoped>\n",
              "    .dataframe tbody tr th:only-of-type {\n",
              "        vertical-align: middle;\n",
              "    }\n",
              "\n",
              "    .dataframe tbody tr th {\n",
              "        vertical-align: top;\n",
              "    }\n",
              "\n",
              "    .dataframe thead th {\n",
              "        text-align: right;\n",
              "    }\n",
              "</style>\n",
              "<table border=\"1\" class=\"dataframe\">\n",
              "  <thead>\n",
              "    <tr style=\"text-align: right;\">\n",
              "      <th></th>\n",
              "      <th>datetime</th>\n",
              "      <th>season</th>\n",
              "      <th>holiday</th>\n",
              "      <th>workingday</th>\n",
              "      <th>weather</th>\n",
              "      <th>temp</th>\n",
              "      <th>atemp</th>\n",
              "      <th>humidity</th>\n",
              "      <th>windspeed</th>\n",
              "      <th>casual</th>\n",
              "      <th>registered</th>\n",
              "      <th>count</th>\n",
              "    </tr>\n",
              "  </thead>\n",
              "  <tbody>\n",
              "    <tr>\n",
              "      <th>0</th>\n",
              "      <td>2011-01-01 0:00:00</td>\n",
              "      <td>1</td>\n",
              "      <td>0</td>\n",
              "      <td>0</td>\n",
              "      <td>1</td>\n",
              "      <td>9.84</td>\n",
              "      <td>14.395</td>\n",
              "      <td>81.0</td>\n",
              "      <td>0.0</td>\n",
              "      <td>3</td>\n",
              "      <td>13</td>\n",
              "      <td>16</td>\n",
              "    </tr>\n",
              "    <tr>\n",
              "      <th>1</th>\n",
              "      <td>2011-01-01 1:00:00</td>\n",
              "      <td>1</td>\n",
              "      <td>0</td>\n",
              "      <td>0</td>\n",
              "      <td>1</td>\n",
              "      <td>9.02</td>\n",
              "      <td>13.635</td>\n",
              "      <td>80.0</td>\n",
              "      <td>0.0</td>\n",
              "      <td>8</td>\n",
              "      <td>32</td>\n",
              "      <td>40</td>\n",
              "    </tr>\n",
              "    <tr>\n",
              "      <th>2</th>\n",
              "      <td>2011-01-01 2:00:00</td>\n",
              "      <td>1</td>\n",
              "      <td>0</td>\n",
              "      <td>0</td>\n",
              "      <td>1</td>\n",
              "      <td>9.02</td>\n",
              "      <td>13.635</td>\n",
              "      <td>80.0</td>\n",
              "      <td>0.0</td>\n",
              "      <td>5</td>\n",
              "      <td>27</td>\n",
              "      <td>32</td>\n",
              "    </tr>\n",
              "    <tr>\n",
              "      <th>3</th>\n",
              "      <td>2011-01-01 3:00:00</td>\n",
              "      <td>1</td>\n",
              "      <td>0</td>\n",
              "      <td>0</td>\n",
              "      <td>1</td>\n",
              "      <td>9.84</td>\n",
              "      <td>14.395</td>\n",
              "      <td>75.0</td>\n",
              "      <td>0.0</td>\n",
              "      <td>3</td>\n",
              "      <td>10</td>\n",
              "      <td>13</td>\n",
              "    </tr>\n",
              "    <tr>\n",
              "      <th>4</th>\n",
              "      <td>2011-01-01 4:00:00</td>\n",
              "      <td>1</td>\n",
              "      <td>0</td>\n",
              "      <td>0</td>\n",
              "      <td>1</td>\n",
              "      <td>9.84</td>\n",
              "      <td>14.395</td>\n",
              "      <td>75.0</td>\n",
              "      <td>0.0</td>\n",
              "      <td>0</td>\n",
              "      <td>1</td>\n",
              "      <td>1</td>\n",
              "    </tr>\n",
              "  </tbody>\n",
              "</table>\n",
              "</div>"
            ],
            "text/plain": [
              "             datetime  season  holiday  workingday  weather  temp   atemp  \\\n",
              "0  2011-01-01 0:00:00       1        0           0        1  9.84  14.395   \n",
              "1  2011-01-01 1:00:00       1        0           0        1  9.02  13.635   \n",
              "2  2011-01-01 2:00:00       1        0           0        1  9.02  13.635   \n",
              "3  2011-01-01 3:00:00       1        0           0        1  9.84  14.395   \n",
              "4  2011-01-01 4:00:00       1        0           0        1  9.84  14.395   \n",
              "\n",
              "   humidity  windspeed  casual  registered  count  \n",
              "0      81.0        0.0       3          13     16  \n",
              "1      80.0        0.0       8          32     40  \n",
              "2      80.0        0.0       5          27     32  \n",
              "3      75.0        0.0       3          10     13  \n",
              "4      75.0        0.0       0           1      1  "
            ]
          },
          "metadata": {
            "tags": []
          },
          "execution_count": 48
        }
      ]
    },
    {
      "cell_type": "code",
      "metadata": {
        "id": "RGPPAFe1cvT7",
        "colab_type": "code",
        "colab": {},
        "outputId": "f7684867-c7e5-4095-8298-4a291339cc76"
      },
      "source": [
        "test.head()"
      ],
      "execution_count": null,
      "outputs": [
        {
          "output_type": "execute_result",
          "data": {
            "text/html": [
              "<div>\n",
              "<style scoped>\n",
              "    .dataframe tbody tr th:only-of-type {\n",
              "        vertical-align: middle;\n",
              "    }\n",
              "\n",
              "    .dataframe tbody tr th {\n",
              "        vertical-align: top;\n",
              "    }\n",
              "\n",
              "    .dataframe thead th {\n",
              "        text-align: right;\n",
              "    }\n",
              "</style>\n",
              "<table border=\"1\" class=\"dataframe\">\n",
              "  <thead>\n",
              "    <tr style=\"text-align: right;\">\n",
              "      <th></th>\n",
              "      <th>datetime</th>\n",
              "      <th>season</th>\n",
              "      <th>holiday</th>\n",
              "      <th>workingday</th>\n",
              "      <th>weather</th>\n",
              "      <th>temp</th>\n",
              "      <th>atemp</th>\n",
              "      <th>humidity</th>\n",
              "      <th>windspeed</th>\n",
              "      <th>casual</th>\n",
              "      <th>registered</th>\n",
              "    </tr>\n",
              "  </thead>\n",
              "  <tbody>\n",
              "    <tr>\n",
              "      <th>0</th>\n",
              "      <td>2012-06-30 1:00:00</td>\n",
              "      <td>3</td>\n",
              "      <td>0</td>\n",
              "      <td>0</td>\n",
              "      <td>3</td>\n",
              "      <td>26.24</td>\n",
              "      <td>28.790</td>\n",
              "      <td>89.0</td>\n",
              "      <td>15.0013</td>\n",
              "      <td>3</td>\n",
              "      <td>55</td>\n",
              "    </tr>\n",
              "    <tr>\n",
              "      <th>1</th>\n",
              "      <td>2012-06-30 2:00:00</td>\n",
              "      <td>3</td>\n",
              "      <td>0</td>\n",
              "      <td>0</td>\n",
              "      <td>2</td>\n",
              "      <td>26.24</td>\n",
              "      <td>28.790</td>\n",
              "      <td>89.0</td>\n",
              "      <td>0.0000</td>\n",
              "      <td>7</td>\n",
              "      <td>54</td>\n",
              "    </tr>\n",
              "    <tr>\n",
              "      <th>2</th>\n",
              "      <td>2012-06-30 3:00:00</td>\n",
              "      <td>3</td>\n",
              "      <td>0</td>\n",
              "      <td>0</td>\n",
              "      <td>2</td>\n",
              "      <td>26.24</td>\n",
              "      <td>28.790</td>\n",
              "      <td>89.0</td>\n",
              "      <td>0.0000</td>\n",
              "      <td>3</td>\n",
              "      <td>20</td>\n",
              "    </tr>\n",
              "    <tr>\n",
              "      <th>3</th>\n",
              "      <td>2012-06-30 4:00:00</td>\n",
              "      <td>3</td>\n",
              "      <td>0</td>\n",
              "      <td>0</td>\n",
              "      <td>2</td>\n",
              "      <td>25.42</td>\n",
              "      <td>27.275</td>\n",
              "      <td>94.0</td>\n",
              "      <td>0.0000</td>\n",
              "      <td>3</td>\n",
              "      <td>15</td>\n",
              "    </tr>\n",
              "    <tr>\n",
              "      <th>4</th>\n",
              "      <td>2012-06-30 5:00:00</td>\n",
              "      <td>3</td>\n",
              "      <td>0</td>\n",
              "      <td>0</td>\n",
              "      <td>1</td>\n",
              "      <td>26.24</td>\n",
              "      <td>28.790</td>\n",
              "      <td>89.0</td>\n",
              "      <td>11.0014</td>\n",
              "      <td>3</td>\n",
              "      <td>7</td>\n",
              "    </tr>\n",
              "  </tbody>\n",
              "</table>\n",
              "</div>"
            ],
            "text/plain": [
              "             datetime  season  holiday  workingday  weather   temp   atemp  \\\n",
              "0  2012-06-30 1:00:00       3        0           0        3  26.24  28.790   \n",
              "1  2012-06-30 2:00:00       3        0           0        2  26.24  28.790   \n",
              "2  2012-06-30 3:00:00       3        0           0        2  26.24  28.790   \n",
              "3  2012-06-30 4:00:00       3        0           0        2  25.42  27.275   \n",
              "4  2012-06-30 5:00:00       3        0           0        1  26.24  28.790   \n",
              "\n",
              "   humidity  windspeed  casual  registered  \n",
              "0      89.0    15.0013       3          55  \n",
              "1      89.0     0.0000       7          54  \n",
              "2      89.0     0.0000       3          20  \n",
              "3      94.0     0.0000       3          15  \n",
              "4      89.0    11.0014       3           7  "
            ]
          },
          "metadata": {
            "tags": []
          },
          "execution_count": 49
        }
      ]
    },
    {
      "cell_type": "code",
      "metadata": {
        "id": "oPVBg6HkcvT_",
        "colab_type": "code",
        "colab": {},
        "outputId": "4204d6e3-d14d-44f7-cac9-9287915acaa0"
      },
      "source": [
        "train.isnull().sum()"
      ],
      "execution_count": null,
      "outputs": [
        {
          "output_type": "execute_result",
          "data": {
            "text/plain": [
              "datetime      0\n",
              "season        0\n",
              "holiday       0\n",
              "workingday    0\n",
              "weather       0\n",
              "temp          0\n",
              "atemp         0\n",
              "humidity      0\n",
              "windspeed     0\n",
              "casual        0\n",
              "registered    0\n",
              "count         0\n",
              "dtype: int64"
            ]
          },
          "metadata": {
            "tags": []
          },
          "execution_count": 50
        }
      ]
    },
    {
      "cell_type": "code",
      "metadata": {
        "id": "qGSRueggcvUC",
        "colab_type": "code",
        "colab": {},
        "outputId": "019e1ad3-d53a-4ef6-961f-a79dc7dc28ed"
      },
      "source": [
        "test.isnull().sum()"
      ],
      "execution_count": null,
      "outputs": [
        {
          "output_type": "execute_result",
          "data": {
            "text/plain": [
              "datetime      0\n",
              "season        0\n",
              "holiday       0\n",
              "workingday    0\n",
              "weather       0\n",
              "temp          0\n",
              "atemp         0\n",
              "humidity      0\n",
              "windspeed     0\n",
              "casual        0\n",
              "registered    0\n",
              "dtype: int64"
            ]
          },
          "metadata": {
            "tags": []
          },
          "execution_count": 51
        }
      ]
    },
    {
      "cell_type": "markdown",
      "metadata": {
        "id": "GH8xHMdRcvUG",
        "colab_type": "text"
      },
      "source": [
        "No missing value in train and test data"
      ]
    },
    {
      "cell_type": "code",
      "metadata": {
        "id": "zShydiPRcvUG",
        "colab_type": "code",
        "colab": {},
        "outputId": "42ba6d84-1063-4b41-ecef-f4bb207d00af"
      },
      "source": [
        "test.shape"
      ],
      "execution_count": null,
      "outputs": [
        {
          "output_type": "execute_result",
          "data": {
            "text/plain": [
              "(4399, 11)"
            ]
          },
          "metadata": {
            "tags": []
          },
          "execution_count": 54
        }
      ]
    },
    {
      "cell_type": "code",
      "metadata": {
        "id": "4M37u5xzcvUN",
        "colab_type": "code",
        "colab": {},
        "outputId": "c76c919b-c8ca-454f-e67b-3f53236785d5"
      },
      "source": [
        "train.dtypes"
      ],
      "execution_count": null,
      "outputs": [
        {
          "output_type": "execute_result",
          "data": {
            "text/plain": [
              "datetime       object\n",
              "season          int64\n",
              "holiday         int64\n",
              "workingday      int64\n",
              "weather         int64\n",
              "temp          float64\n",
              "atemp         float64\n",
              "humidity      float64\n",
              "windspeed     float64\n",
              "casual          int64\n",
              "registered      int64\n",
              "count           int64\n",
              "dtype: object"
            ]
          },
          "metadata": {
            "tags": []
          },
          "execution_count": 61
        }
      ]
    },
    {
      "cell_type": "code",
      "metadata": {
        "id": "mvyCjKKqcvUR",
        "colab_type": "code",
        "colab": {},
        "outputId": "0e4b3fa5-c910-4fd7-e1c7-2d98d97592b5"
      },
      "source": [
        "test.dtypes"
      ],
      "execution_count": null,
      "outputs": [
        {
          "output_type": "execute_result",
          "data": {
            "text/plain": [
              "datetime       object\n",
              "season          int64\n",
              "holiday         int64\n",
              "workingday      int64\n",
              "weather         int64\n",
              "temp          float64\n",
              "atemp         float64\n",
              "humidity      float64\n",
              "windspeed     float64\n",
              "casual          int64\n",
              "registered      int64\n",
              "dtype: object"
            ]
          },
          "metadata": {
            "tags": []
          },
          "execution_count": 62
        }
      ]
    },
    {
      "cell_type": "markdown",
      "metadata": {
        "id": "csf6YN_JcvUU",
        "colab_type": "text"
      },
      "source": [
        "#We can infer from the data that count is the dependent variable and all the data except 'datetime' is numeric"
      ]
    },
    {
      "cell_type": "markdown",
      "metadata": {
        "id": "Ny7JywKDcvUV",
        "colab_type": "text"
      },
      "source": [
        "# UNIVARIATE ANALYSIS"
      ]
    },
    {
      "cell_type": "code",
      "metadata": {
        "id": "CoXzihQ5cvUW",
        "colab_type": "code",
        "colab": {}
      },
      "source": [
        "import seaborn as sn\n",
        "%matplotlib inline"
      ],
      "execution_count": null,
      "outputs": []
    },
    {
      "cell_type": "code",
      "metadata": {
        "id": "wLQ-WGvUcvUb",
        "colab_type": "code",
        "colab": {},
        "outputId": "fa38dbbe-56f2-46e2-b440-4139afa6fd4b"
      },
      "source": [
        "sn.distplot(train['count'])"
      ],
      "execution_count": null,
      "outputs": [
        {
          "output_type": "execute_result",
          "data": {
            "text/plain": [
              "<matplotlib.axes._subplots.AxesSubplot at 0x29c94c68288>"
            ]
          },
          "metadata": {
            "tags": []
          },
          "execution_count": 65
        },
        {
          "output_type": "display_data",
          "data": {
            "image/png": "[encoded data removed]",
            "text/plain": [
              "<Figure size 432x288 with 1 Axes>"
            ]
          },
          "metadata": {
            "tags": [],
            "needs_background": "light"
          }
        }
      ]
    },
    {
      "cell_type": "markdown",
      "metadata": {
        "id": "13Ihgq3dcvUg",
        "colab_type": "text"
      },
      "source": [
        "#distribution is skewed towards right hence take log to normalize the distribution"
      ]
    },
    {
      "cell_type": "code",
      "metadata": {
        "id": "mfW-B7pIcvUg",
        "colab_type": "code",
        "colab": {},
        "outputId": "e288368a-20f1-4ae8-8f7a-cf70609abfd2"
      },
      "source": [
        "sn.distplot(np.log(train['count']))"
      ],
      "execution_count": null,
      "outputs": [
        {
          "output_type": "execute_result",
          "data": {
            "text/plain": [
              "<matplotlib.axes._subplots.AxesSubplot at 0x29c9e788408>"
            ]
          },
          "metadata": {
            "tags": []
          },
          "execution_count": 85
        },
        {
          "output_type": "display_data",
          "data": {
            "image/png": "[encoded data removed]",
            "text/plain": [
              "<Figure size 432x288 with 1 Axes>"
            ]
          },
          "metadata": {
            "tags": [],
            "needs_background": "light"
          }
        }
      ]
    },
    {
      "cell_type": "markdown",
      "metadata": {
        "id": "OjabLXKzcvUj",
        "colab_type": "text"
      },
      "source": [
        "#now the data seems to be less skewed"
      ]
    },
    {
      "cell_type": "code",
      "metadata": {
        "id": "U3HzGNIpcvUk",
        "colab_type": "code",
        "colab": {},
        "outputId": "33fd5d3c-1b52-42e9-9cf1-2c88e37e03fd"
      },
      "source": [
        "sn.distplot(train['registered'])"
      ],
      "execution_count": null,
      "outputs": [
        {
          "output_type": "execute_result",
          "data": {
            "text/plain": [
              "<matplotlib.axes._subplots.AxesSubplot at 0x29c9eeddf48>"
            ]
          },
          "metadata": {
            "tags": []
          },
          "execution_count": 95
        },
        {
          "output_type": "display_data",
          "data": {
            "image/png": "[encoded data removed]",
            "text/plain": [
              "<Figure size 432x288 with 1 Axes>"
            ]
          },
          "metadata": {
            "tags": [],
            "needs_background": "light"
          }
        }
      ]
    },
    {
      "cell_type": "markdown",
      "metadata": {
        "id": "0SCk9tWUcvUn",
        "colab_type": "text"
      },
      "source": [
        "# BIVARIATE ANALYSIS"
      ]
    },
    {
      "cell_type": "code",
      "metadata": {
        "id": "8MSnx7gqcvUo",
        "colab_type": "code",
        "colab": {}
      },
      "source": [
        "corr=train[['temp','atemp','humidity','windspeed','casual','registered','count']].corr()"
      ],
      "execution_count": null,
      "outputs": []
    },
    {
      "cell_type": "code",
      "metadata": {
        "id": "svm9Eb4_cvUs",
        "colab_type": "code",
        "colab": {},
        "outputId": "d6bd4c1a-1991-45dd-b26e-fb440409a1df"
      },
      "source": [
        "mask = np.array(corr)\n",
        "mask[np.tril_indices_from(mask)] = False\n",
        "fig,ax= plt.subplots()\n",
        "fig.set_size_inches(20,10)\n",
        "sn.heatmap(corr,mask=mask,vmax=.9, square=True,annot=True, cmap=\"YlGnBu\")"
      ],
      "execution_count": null,
      "outputs": [
        {
          "output_type": "execute_result",
          "data": {
            "text/plain": [
              "<matplotlib.axes._subplots.AxesSubplot at 0x29c9f0ff1c8>"
            ]
          },
          "metadata": {
            "tags": []
          },
          "execution_count": 99
        },
        {
          "output_type": "display_data",
          "data": {
            "image/png": "[encoded data removed]",
            "text/plain": [
              "<Figure size 1440x720 with 2 Axes>"
            ]
          },
          "metadata": {
            "tags": [],
            "needs_background": "light"
          }
        }
      ]
    },
    {
      "cell_type": "markdown",
      "metadata": {
        "id": "JVpLYi3IcvUw",
        "colab_type": "text"
      },
      "source": [
        "1. temp has positive correlation with count\n",
        "2. humidity has negative correlation with count\n",
        "3. temp and atemp are highly correlate thus need not to consider both for model building\n",
        "4. windspid has no much correlation with count, so it is also a useless data for model building"
      ]
    },
    {
      "cell_type": "markdown",
      "metadata": {
        "id": "ZQn7tT02cvUx",
        "colab_type": "text"
      },
      "source": [
        "Extracting date, time, and hour"
      ]
    },
    {
      "cell_type": "code",
      "metadata": {
        "id": "zdtW1sk7cvUx",
        "colab_type": "code",
        "colab": {}
      },
      "source": [
        "from datetime import datetime\n",
        "from datetime import date\n",
        "import calendar"
      ],
      "execution_count": null,
      "outputs": []
    },
    {
      "cell_type": "code",
      "metadata": {
        "id": "0HSaczEpcvU1",
        "colab_type": "code",
        "colab": {}
      },
      "source": [
        "train[\"date\"] = train.datetime.apply(lambda x : x.split()[0])\n",
        "train[\"hour\"] = train.datetime.apply(lambda x : x.split()[1].split(\":\")[0])\n",
        "train[\"month\"] = train.date.apply(lambda dateString : datetime.strptime(dateString,\"%Y-%m-%d\").month)"
      ],
      "execution_count": null,
      "outputs": []
    },
    {
      "cell_type": "code",
      "metadata": {
        "id": "uOz4tQo_cvU4",
        "colab_type": "code",
        "colab": {}
      },
      "source": [
        "test[\"date\"] = test.datetime.apply(lambda x : x.split()[0])\n",
        "test[\"hour\"] = test.datetime.apply(lambda x : x.split()[1].split(\":\")[0])\n",
        "test[\"month\"] = test.date.apply(lambda dateString : datetime.strptime(dateString,\"%Y-%m-%d\").month)"
      ],
      "execution_count": null,
      "outputs": []
    },
    {
      "cell_type": "markdown",
      "metadata": {
        "id": "xgQcKDLgcvU9",
        "colab_type": "text"
      },
      "source": [
        "Creating training and validation set to check the performance of model"
      ]
    },
    {
      "cell_type": "code",
      "metadata": {
        "id": "irLLTTokcvU-",
        "colab_type": "code",
        "colab": {}
      },
      "source": [
        "training = train[train['datetime']<='2012-05-30 0:00:00']\n",
        "validation = train[train['datetime']>'2012-05-30 0:00:00']"
      ],
      "execution_count": null,
      "outputs": []
    },
    {
      "cell_type": "markdown",
      "metadata": {
        "id": "U5BaAcJ_cvVB",
        "colab_type": "text"
      },
      "source": [
        "dropping datetime, date, atemp and windspeed"
      ]
    },
    {
      "cell_type": "code",
      "metadata": {
        "id": "cO6Y45TFcvVB",
        "colab_type": "code",
        "colab": {}
      },
      "source": [
        "train = train.drop(['datetime','date', 'atemp','windspeed'],axis=1)\n",
        "test = test.drop(['datetime','date', 'atemp','windspeed'], axis=1)\n",
        "training = training.drop(['datetime','date', 'atemp','windspeed'],axis=1)\n",
        "validation = validation.drop(['datetime','date', 'atemp','windspeed'],axis=1)"
      ],
      "execution_count": null,
      "outputs": []
    },
    {
      "cell_type": "markdown",
      "metadata": {
        "id": "IS0mV2KecvVE",
        "colab_type": "text"
      },
      "source": [
        "# LINEAR REGRESSION MODEL"
      ]
    },
    {
      "cell_type": "code",
      "metadata": {
        "id": "Jnffa_8ScvVF",
        "colab_type": "code",
        "colab": {}
      },
      "source": [
        "from sklearn.linear_model import LinearRegression"
      ],
      "execution_count": null,
      "outputs": []
    },
    {
      "cell_type": "code",
      "metadata": {
        "id": "MLN8ue1icvVI",
        "colab_type": "code",
        "colab": {}
      },
      "source": [
        "lreg=LinearRegression()"
      ],
      "execution_count": null,
      "outputs": []
    },
    {
      "cell_type": "code",
      "metadata": {
        "id": "gqkgS0hPcvVL",
        "colab_type": "code",
        "colab": {}
      },
      "source": [
        "train_x = training.drop('count', 1)\n",
        "train_y = np.log(training['count'])\n",
        "val_x = validation.drop('count', 1)\n",
        "val_y = np.log(validation['count'])"
      ],
      "execution_count": null,
      "outputs": []
    },
    {
      "cell_type": "code",
      "metadata": {
        "id": "Qn0lAndHcvVQ",
        "colab_type": "code",
        "colab": {},
        "outputId": "65934aa9-fea8-4f9f-adfb-3f47a49ad79a"
      },
      "source": [
        "train_x.shape"
      ],
      "execution_count": null,
      "outputs": [
        {
          "output_type": "execute_result",
          "data": {
            "text/plain": [
              "(12236, 10)"
            ]
          },
          "metadata": {
            "tags": []
          },
          "execution_count": 114
        }
      ]
    },
    {
      "cell_type": "code",
      "metadata": {
        "id": "YBjab5F6cvVT",
        "colab_type": "code",
        "colab": {},
        "outputId": "e3180ddb-4b46-4764-fdea-91e4262913fc"
      },
      "source": [
        "train_y.shape"
      ],
      "execution_count": null,
      "outputs": [
        {
          "output_type": "execute_result",
          "data": {
            "text/plain": [
              "(12236,)"
            ]
          },
          "metadata": {
            "tags": []
          },
          "execution_count": 115
        }
      ]
    },
    {
      "cell_type": "code",
      "metadata": {
        "id": "9JHwymM4cvVW",
        "colab_type": "code",
        "colab": {},
        "outputId": "5be6b94b-e4bf-4ac0-abea-9bc26222cffa"
      },
      "source": [
        "val_x.shape"
      ],
      "execution_count": null,
      "outputs": [
        {
          "output_type": "execute_result",
          "data": {
            "text/plain": [
              "(744, 10)"
            ]
          },
          "metadata": {
            "tags": []
          },
          "execution_count": 116
        }
      ]
    },
    {
      "cell_type": "code",
      "metadata": {
        "id": "FVUY1R54cvVZ",
        "colab_type": "code",
        "colab": {},
        "outputId": "5e34bd17-40ad-4e91-9463-d8993b8c5e43"
      },
      "source": [
        "val_y.shape"
      ],
      "execution_count": null,
      "outputs": [
        {
          "output_type": "execute_result",
          "data": {
            "text/plain": [
              "(744,)"
            ]
          },
          "metadata": {
            "tags": []
          },
          "execution_count": 117
        }
      ]
    },
    {
      "cell_type": "code",
      "metadata": {
        "id": "iPFs5hHKcvVc",
        "colab_type": "code",
        "colab": {},
        "outputId": "3b5b99a1-3951-4ce3-fb1c-ab5f3ef757fb"
      },
      "source": [
        "lreg.fit(train_x,train_y)"
      ],
      "execution_count": null,
      "outputs": [
        {
          "output_type": "execute_result",
          "data": {
            "text/plain": [
              "LinearRegression()"
            ]
          },
          "metadata": {
            "tags": []
          },
          "execution_count": 118
        }
      ]
    },
    {
      "cell_type": "code",
      "metadata": {
        "id": "ApVLTOlAcvVh",
        "colab_type": "code",
        "colab": {},
        "outputId": "ba1bfe62-6baf-40a0-aa15-e7242723c9b3"
      },
      "source": [
        "lreg.score(train_x,train_y)"
      ],
      "execution_count": null,
      "outputs": [
        {
          "output_type": "execute_result",
          "data": {
            "text/plain": [
              "0.730357312030308"
            ]
          },
          "metadata": {
            "tags": []
          },
          "execution_count": 119
        }
      ]
    },
    {
      "cell_type": "code",
      "metadata": {
        "id": "O0DRzytvcvVk",
        "colab_type": "code",
        "colab": {}
      },
      "source": [
        "pred=lreg.predict(val_x)"
      ],
      "execution_count": null,
      "outputs": []
    },
    {
      "cell_type": "code",
      "metadata": {
        "id": "6FD3vOe6cvVn",
        "colab_type": "code",
        "colab": {}
      },
      "source": [
        "def rms(y1, y2):\n",
        "    y1 = np.exp(y1),   # taking the exponential as we took the log of target variable\n",
        "    y2 = np.exp(y2)\n",
        "    log1 = np.nan_to_num(np.array([np.log(v + 1) for v in y1]))\n",
        "    log2 = np.nan_to_num(np.array([np.log(v + 1) for v in y2]))\n",
        "    sqr = (log1 - log2) ** 2\n",
        "    return np.sqrt(np.mean(sqr))"
      ],
      "execution_count": null,
      "outputs": []
    },
    {
      "cell_type": "code",
      "metadata": {
        "id": "_vGDPRQHcvVq",
        "colab_type": "code",
        "colab": {},
        "outputId": "78f05550-8356-4271-8b6c-d9ddc11005fa"
      },
      "source": [
        "rms(val_y,pred)\n",
        "# rmse value is 0.8456"
      ],
      "execution_count": null,
      "outputs": [
        {
          "output_type": "execute_result",
          "data": {
            "text/plain": [
              "0.845557812951983"
            ]
          },
          "metadata": {
            "tags": []
          },
          "execution_count": 129
        }
      ]
    },
    {
      "cell_type": "code",
      "metadata": {
        "id": "pmngZNvXcvVt",
        "colab_type": "code",
        "colab": {}
      },
      "source": [
        "test_predictions=lreg.predict(test)\n",
        "test_predictions=pd.DataFrame(test_predictions)\n",
        "test_predictions.to_csv('E:/Data science/Statistics/prediction_test.csv')"
      ],
      "execution_count": null,
      "outputs": []
    },
    {
      "cell_type": "markdown",
      "metadata": {
        "id": "872Ab64-cvVy",
        "colab_type": "text"
      },
      "source": [
        "# DECISION TREE"
      ]
    },
    {
      "cell_type": "code",
      "metadata": {
        "id": "icxNTDWGcvVy",
        "colab_type": "code",
        "colab": {}
      },
      "source": [
        "from sklearn.tree import DecisionTreeRegressor"
      ],
      "execution_count": null,
      "outputs": []
    },
    {
      "cell_type": "code",
      "metadata": {
        "id": "30tBzqi5cvV3",
        "colab_type": "code",
        "colab": {}
      },
      "source": [
        "dt = DecisionTreeRegressor(max_depth=10)"
      ],
      "execution_count": null,
      "outputs": []
    },
    {
      "cell_type": "code",
      "metadata": {
        "id": "j6hLkeQPcvV7",
        "colab_type": "code",
        "colab": {},
        "outputId": "ee4c0b02-fabc-4348-976e-b52ffc55ccb6"
      },
      "source": [
        "dt.fit(train_x,train_y)"
      ],
      "execution_count": null,
      "outputs": [
        {
          "output_type": "execute_result",
          "data": {
            "text/plain": [
              "DecisionTreeRegressor(max_depth=10)"
            ]
          },
          "metadata": {
            "tags": []
          },
          "execution_count": 133
        }
      ]
    },
    {
      "cell_type": "code",
      "metadata": {
        "id": "0mldOg25cvV_",
        "colab_type": "code",
        "colab": {}
      },
      "source": [
        "predict = dt.predict(val_x)"
      ],
      "execution_count": null,
      "outputs": []
    },
    {
      "cell_type": "code",
      "metadata": {
        "id": "D1Srn2pccvWC",
        "colab_type": "code",
        "colab": {},
        "outputId": "058101cf-f854-45e9-fa9c-4c06800270b9"
      },
      "source": [
        "rms(val_y, predict)"
      ],
      "execution_count": null,
      "outputs": [
        {
          "output_type": "execute_result",
          "data": {
            "text/plain": [
              "0.026245542807696916"
            ]
          },
          "metadata": {
            "tags": []
          },
          "execution_count": 135
        }
      ]
    },
    {
      "cell_type": "markdown",
      "metadata": {
        "id": "ZZDz-yG8cvWG",
        "colab_type": "text"
      },
      "source": [
        "rms value is quite small hend it's a better prediction"
      ]
    },
    {
      "cell_type": "code",
      "metadata": {
        "id": "8eOzqUescvWH",
        "colab_type": "code",
        "colab": {}
      },
      "source": [
        "test_predictiondt = dt.predict(test)"
      ],
      "execution_count": null,
      "outputs": []
    },
    {
      "cell_type": "markdown",
      "metadata": {
        "id": "dydqBA2gcvWN",
        "colab_type": "text"
      },
      "source": [
        "These are the log values and we have to convert them back to the original scale."
      ]
    },
    {
      "cell_type": "code",
      "metadata": {
        "id": "sUtUc3VmcvWO",
        "colab_type": "code",
        "colab": {}
      },
      "source": [
        "final_prediction = np.exp(test_predictiondt)"
      ],
      "execution_count": null,
      "outputs": []
    },
    {
      "cell_type": "markdown",
      "metadata": {
        "id": "lKG4koXfcvWT",
        "colab_type": "text"
      },
      "source": [
        "Saving the final predictions into csv file"
      ]
    },
    {
      "cell_type": "code",
      "metadata": {
        "id": "2KIpIfA0cvWU",
        "colab_type": "code",
        "colab": {}
      },
      "source": [
        "submission = pd.DataFrame()"
      ],
      "execution_count": null,
      "outputs": []
    },
    {
      "cell_type": "code",
      "metadata": {
        "id": "R8hLa0fXcvWW",
        "colab_type": "code",
        "colab": {}
      },
      "source": [
        "submission['count'] = final_prediction"
      ],
      "execution_count": null,
      "outputs": []
    },
    {
      "cell_type": "code",
      "metadata": {
        "id": "PKASAxH1cvWa",
        "colab_type": "code",
        "colab": {}
      },
      "source": [
        "submission.to_csv('E:/Data science/Statistics/Assignment 4 (3)/submission.csv', header=True, index=False)"
      ],
      "execution_count": null,
      "outputs": []
    },
    {
      "cell_type": "code",
      "metadata": {
        "id": "7EnvVXXLcvWj",
        "colab_type": "code",
        "colab": {}
      },
      "source": [
        ""
      ],
      "execution_count": null,
      "outputs": []
    }
  ]
}